{
 "cells": [
  {
   "cell_type": "markdown",
   "metadata": {},
   "source": [
    "## Performance measurements of a specific DQN agent\n"
   ]
  },
  {
   "cell_type": "markdown",
   "metadata": {},
   "source": [
    "![Cartpole environment](https://nav74neet.github.io/media/blog/openaigym/openaigym.jpg)"
   ]
  },
  {
   "cell_type": "markdown",
   "metadata": {},
   "source": [
    "#### Includes:\n",
    "\n",
    "- TensorBoard integration\n",
    "- Final Policy evaluation\n",
    "- Best Policy evaluation\n",
    "- Videos of both policies"
   ]
  },
  {
   "cell_type": "markdown",
   "metadata": {},
   "source": [
    "### The transformer network"
   ]
  },
  {
   "cell_type": "code",
   "execution_count": 1,
   "metadata": {},
   "outputs": [],
   "source": [
    "# Set the GPU for training\n",
    "import os\n",
    "os.environ['CUDA_VISIBLE_DEVICES']='0'"
   ]
  },
  {
   "cell_type": "code",
   "execution_count": 2,
   "metadata": {},
   "outputs": [],
   "source": [
    "import sys\n",
    "# insert at 1, 0 is the script path (or '' in REPL)\n",
    "sys.path.insert(1, 'modules/')"
   ]
  },
  {
   "cell_type": "code",
   "execution_count": 3,
   "metadata": {},
   "outputs": [],
   "source": [
    "from train_eval import *\n",
    "from transformers_encoders import * \n",
    "from utils import *"
   ]
  },
  {
   "cell_type": "code",
   "execution_count": 4,
   "metadata": {},
   "outputs": [],
   "source": [
    "import tensorflow as tf  # pylint: disable=g-explicit-tensorflow-version-import\n",
    "from tf_agents.networks import network\n",
    "from tf_agents.environments import tf_environment\n",
    "import numpy as np\n",
    "import pickle\n",
    "import matplotlib.pyplot as plt\n",
    "import gym\n",
    "from tf_agents.agents.dqn import dqn_agent\n",
    "from tf_agents.environments import suite_gym\n",
    "from tf_agents.environments import tf_py_environment\n",
    "from tf_agents.eval import metric_utils\n",
    "from tf_agents.metrics import tf_metrics\n",
    "from tf_agents.policies import policy_saver\n",
    "from tf_agents.networks import q_network\n",
    "from tf_agents.policies import random_tf_policy\n",
    "from tf_agents.trajectories.trajectory import *\n",
    "from tf_agents.utils import common \n",
    "from tf_agents.environments.tf_wrappers import TFEnvironmentBaseWrapper\n",
    "from tf_agents.utils.common import element_wise_squared_loss, element_wise_huber_loss\n",
    "\n",
    "encoderList = {1:Encoder_1,2:Encoder_2,3:Encoder_3}"
   ]
  },
  {
   "cell_type": "code",
   "execution_count": 22,
   "metadata": {},
   "outputs": [],
   "source": [
    "def embed_mp4(filename):\n",
    "    \"\"\"Embeds an mp4 file in the notebook.\"\"\"\n",
    "    video = open(filename,'rb').read()\n",
    "    b64 = base64.b64encode(video)\n",
    "    tag = '''\n",
    "    <video width=\"640\" height=\"480\" controls>\n",
    "    <source src=\"data:video/mp4;base64,{0}\" type=\"video/mp4\">\n",
    "    Your browser does not support the video tag.\n",
    "    </video>'''.format(b64.decode())\n",
    "    return IPython.display.HTML(tag)"
   ]
  },
  {
   "cell_type": "markdown",
   "metadata": {},
   "source": [
    "### Load the training args"
   ]
  },
  {
   "cell_type": "code",
   "execution_count": 32,
   "metadata": {},
   "outputs": [],
   "source": [
    "# Choose which agent you want to evaluate and specify the correct path\n",
    "directory = \"videos/Acro_validate_4\"\n",
    "args = pickle.load((open(directory + \"/training_args.p\",\"rb\")))"
   ]
  },
  {
   "cell_type": "code",
   "execution_count": 33,
   "metadata": {},
   "outputs": [
    {
     "data": {
      "text/plain": [
       "Namespace(approx_env_boundaries=False, atari=False, batch_size=32, checkpoint_interval=10000, collect_steps_per_iteration=1, custom_last_layer=True, custom_layer_init=1, custom_lr_schedule='No', d_model=64, debug_summaries=False, dff=256, doubleQ=True, encoder_type=3, env='Acrobot-v1', epsilon_greedy=0.1, eval_interval=1000, gamma=0.99, gradient_clipping=True, initial_collect_steps=500, layer_type=3, learning_rate=0.0001, log_interval=1000, loss_function='element_wise_huber_loss', max_horizon=5, normalize_env=False, num_eval_episodes=10, num_heads=4, num_iparallel=1, num_iterations=150000, num_layers=3, output_dir='Acro_validate_4', rate=0.1, replay_buffer_max_length=100000, reward_scale_factor=1.0, run_graph_mode=True, summarize_grads_and_vars=False, summary_flush=10, summary_interval=1000, target_update_period=10, target_update_tau=1, train_steps_per_iteration=1)"
      ]
     },
     "execution_count": 33,
     "metadata": {},
     "output_type": "execute_result"
    }
   ],
   "source": [
    "args"
   ]
  },
  {
   "cell_type": "markdown",
   "metadata": {},
   "source": [
    "### Tensorflow integration\n",
    "(Works more consistent when manually starting Tensorboard and only loading it)"
   ]
  },
  {
   "cell_type": "code",
   "execution_count": 24,
   "metadata": {},
   "outputs": [],
   "source": [
    "%load_ext tensorboard"
   ]
  },
  {
   "cell_type": "code",
   "execution_count": null,
   "metadata": {},
   "outputs": [],
   "source": [
    "# Load the TensorBoard notebook extension\n",
    "    %tensorboard --logdir {directory}"
   ]
  },
  {
   "cell_type": "markdown",
   "metadata": {},
   "source": [
    "### Build Everything according to script"
   ]
  },
  {
   "cell_type": "code",
   "execution_count": 34,
   "metadata": {},
   "outputs": [],
   "source": [
    "global_step = tf.compat.v1.train.get_or_create_global_step()\n",
    "\n",
    "baseEnv = gym.make(args.env)\n",
    "env = suite_gym.load(args.env)\n",
    "eval_env = suite_gym.load(args.env)\n",
    "if args.normalize_env == True:\n",
    "    env = NormalizeWrapper(env,args.approx_env_boundaries,args.env)\n",
    "    eval_env = NormalizeWrapper(eval_env,args.approx_env_boundaries,args.env)\n",
    "env = PyhistoryWrapper(env,args.max_horizon,args.atari)\n",
    "eval_env = PyhistoryWrapper(eval_env,args.max_horizon,args.atari)\n",
    "tf_env = tf_py_environment.TFPyEnvironment(env)\n",
    "eval_tf_env = tf_py_environment.TFPyEnvironment(eval_env)\n"
   ]
  },
  {
   "cell_type": "code",
   "execution_count": 35,
   "metadata": {
    "scrolled": true
   },
   "outputs": [
    {
     "data": {
      "text/plain": [
       "TimeStep(step_type=<tf.Tensor: shape=(1,), dtype=int32, numpy=array([0])>, reward=<tf.Tensor: shape=(1,), dtype=float32, numpy=array([0.], dtype=float32)>, discount=<tf.Tensor: shape=(1,), dtype=float32, numpy=array([1.], dtype=float32)>, observation=<tf.Tensor: shape=(1, 30), dtype=float32, numpy=\n",
       "array([[ 0.9999146 , -0.013068  ,  0.9998928 , -0.01464336,  0.01964835,\n",
       "        -0.00381415,  0.        ,  0.        ,  0.        ,  0.        ,\n",
       "         0.        ,  0.        ,  0.        ,  0.        ,  0.        ,\n",
       "         0.        ,  0.        ,  0.        ,  0.        ,  0.        ,\n",
       "         0.        ,  0.        ,  0.        ,  0.        ,  0.        ,\n",
       "         0.        ,  0.        ,  0.        ,  0.        ,  0.        ]],\n",
       "      dtype=float32)>)"
      ]
     },
     "execution_count": 35,
     "metadata": {},
     "output_type": "execute_result"
    }
   ],
   "source": [
    "tf_env.current_time_step()"
   ]
  },
  {
   "cell_type": "code",
   "execution_count": 36,
   "metadata": {},
   "outputs": [],
   "source": [
    "q_net = QTransformer(\n",
    "    tf_env.observation_spec(),\n",
    "    baseEnv.action_space.n,\n",
    "    num_layers=args.num_layers,\n",
    "    d_model=args.d_model,\n",
    "    num_heads=args.num_heads, \n",
    "    dff=args.dff,\n",
    "    rate = args.rate,\n",
    "    encoderType = args.encoder_type,\n",
    "    enc_layer_type=args.layer_type,\n",
    "    max_horizon=args.max_horizon,\n",
    "    custom_layer = args.custom_layer_init, \n",
    "    custom_last_layer = args.custom_last_layer)"
   ]
  },
  {
   "cell_type": "code",
   "execution_count": 37,
   "metadata": {},
   "outputs": [],
   "source": [
    "    if args.custom_lr_schedule == \"Transformer\":    # builds a lr schedule according to the original usage for the transformer\n",
    "        learning_rate = CustomSchedule(args.d_model,int(args.num_iterations/10))\n",
    "        optimizer = tf.keras.optimizers.Adam(learning_rate, beta_1=0.9, beta_2=0.98, epsilon=1e-9)\n",
    "\n",
    "    elif args.custom_lr_schedule == \"Transformer_low\":    # builds a lr schedule according to the original usage for the transformer\n",
    "        learning_rate = CustomSchedule(int(args.d_model/2),int(args.num_iterations/10)) # --> same schedule with lower general lr\n",
    "        optimizer = tf.keras.optimizers.Adam(learning_rate, beta_1=0.9, beta_2=0.98, epsilon=1e-9)\n",
    "\n",
    "    elif args.custom_lr_schedule == \"Linear\": \n",
    "        lrs = LinearCustomSchedule(learning_rate,args.num_iterations)\n",
    "        optimizer = tf.keras.optimizers.Adam(lrs, beta_1=0.9, beta_2=0.98, epsilon=1e-9)\n",
    "\n",
    "    else:\n",
    "        optimizer = tf.compat.v1.train.AdamOptimizer(learning_rate=args.learning_rate)\n",
    "\n",
    "    if args.loss_function == \"element_wise_huber_loss\" :\n",
    "        lf = element_wise_huber_loss\n",
    "    elif args.loss_function == \"element_wise_squared_loss\":\n",
    "        lf = element_wise_squared_loss"
   ]
  },
  {
   "cell_type": "code",
   "execution_count": 38,
   "metadata": {},
   "outputs": [
    {
     "name": "stdout",
     "output_type": "stream",
     "text": [
      "Initializing stuff.Weird Tensor Catch to prevent the model to break Case 2 (Empty Tensor)\n",
      "Initializing stuff.Weird Tensor Catch to prevent the model to break Case 2 (Empty Tensor)\n"
     ]
    }
   ],
   "source": [
    "    if args.doubleQ == False:          # global step count\n",
    "        agent = dqn_agent.DqnAgent(\n",
    "            tf_env.time_step_spec(),\n",
    "            tf_env.action_spec(),\n",
    "            q_network=q_net,\n",
    "            epsilon_greedy=args.epsilon_greedy,\n",
    "            target_update_tau=args.target_update_tau,\n",
    "            target_update_period=args.target_update_period,\n",
    "            td_errors_loss_fn =lf,\n",
    "            optimizer=optimizer,\n",
    "            gamma=args.gamma,\n",
    "            reward_scale_factor=args.reward_scale_factor,\n",
    "            gradient_clipping=args.gradient_clipping,\n",
    "            debug_summaries=args.debug_summaries,\n",
    "            summarize_grads_and_vars=args.summarize_grads_and_vars,\n",
    "            train_step_counter=global_step)\n",
    "    else:\n",
    "        agent = dqn_agent.DdqnAgent(\n",
    "            tf_env.time_step_spec(),\n",
    "            tf_env.action_spec(),\n",
    "            q_network=q_net,\n",
    "            epsilon_greedy=args.epsilon_greedy,\n",
    "            target_update_tau=args.target_update_tau,\n",
    "            td_errors_loss_fn = lf,\n",
    "            target_update_period=args.target_update_period,\n",
    "            optimizer=optimizer,\n",
    "            gamma=args.gamma,\n",
    "            reward_scale_factor=args.reward_scale_factor,\n",
    "            gradient_clipping=args.gradient_clipping,\n",
    "            debug_summaries=args.debug_summaries,\n",
    "            summarize_grads_and_vars=args.summarize_grads_and_vars,\n",
    "            train_step_counter=global_step)\n",
    "    agent.initialize()"
   ]
  },
  {
   "cell_type": "markdown",
   "metadata": {},
   "source": [
    "## Get either the best or the final policy checkpoint, make  video and get AV"
   ]
  },
  {
   "cell_type": "code",
   "execution_count": 39,
   "metadata": {},
   "outputs": [
    {
     "data": {
      "text/plain": [
       "<tensorflow.python.training.tracking.util.CheckpointLoadStatus at 0x1e4e16ce388>"
      ]
     },
     "execution_count": 39,
     "metadata": {},
     "output_type": "execute_result"
    }
   ],
   "source": [
    "train_checkpointer = common.Checkpointer(\n",
    "    ckpt_dir=directory + \"/train\",\n",
    "    agent=agent,\n",
    "    global_step=global_step,\n",
    "    max_to_keep=1)\n",
    "train_checkpointer.initialize_or_restore()"
   ]
  },
  {
   "cell_type": "code",
   "execution_count": 40,
   "metadata": {},
   "outputs": [
    {
     "name": "stderr",
     "output_type": "stream",
     "text": [
      "WARNING:imageio_ffmpeg:IMAGEIO FFMPEG_WRITER WARNING: input image is not divisible by macro_block_size=16, resizing from (500, 500) to (512, 512) to ensure video compatibility with most codecs and players. To prevent resizing, make your input image divisible by the macro_block_size or set the macro_block_size to 1 (risking incompatibility).\n"
     ]
    },
    {
     "data": {
      "text/plain": [
       "-80.0"
      ]
     },
     "execution_count": 40,
     "metadata": {},
     "output_type": "execute_result"
    }
   ],
   "source": [
    "create_policy_eval_video(agent.policy,eval_env,directory + \"/finalAgent\", num_episodes =1, fps=25)\n",
    "compute_avg_return(eval_tf_env, agent.policy , num_episodes=1)"
   ]
  },
  {
   "cell_type": "code",
   "execution_count": 15,
   "metadata": {},
   "outputs": [
    {
     "data": {
      "text/plain": [
       "<tensorflow.python.training.tracking.util.CheckpointLoadStatus at 0x29b8e113708>"
      ]
     },
     "execution_count": 15,
     "metadata": {},
     "output_type": "execute_result"
    }
   ],
   "source": [
    "policy_checkpointer = common.Checkpointer(\n",
    "    ckpt_dir= directory + \"/train\"+ '/policy',\n",
    "    policy=agent.policy,\n",
    "    max_to_keep=1,\n",
    "    global_step=global_step)\n",
    "policy_checkpointer.initialize_or_restore()"
   ]
  },
  {
   "cell_type": "code",
   "execution_count": 16,
   "metadata": {},
   "outputs": [
    {
     "name": "stderr",
     "output_type": "stream",
     "text": [
      "WARNING:imageio_ffmpeg:IMAGEIO FFMPEG_WRITER WARNING: input image is not divisible by macro_block_size=16, resizing from (600, 400) to (608, 400) to ensure video compatibility with most codecs and players. To prevent resizing, make your input image divisible by the macro_block_size or set the macro_block_size to 1 (risking incompatibility).\n"
     ]
    },
    {
     "data": {
      "text/plain": [
       "500.0"
      ]
     },
     "execution_count": 16,
     "metadata": {},
     "output_type": "execute_result"
    }
   ],
   "source": [
    "create_policy_eval_video(agent.policy,eval_env,directory + \"/bestAgent\", num_episodes =1)\n",
    "compute_avg_return(eval_tf_env, agent.policy , num_episodes=1)"
   ]
  },
  {
   "cell_type": "markdown",
   "metadata": {},
   "source": [
    "# Attention display \n",
    "##### Seems to be broken from TF version? Needs further investigation"
   ]
  },
  {
   "cell_type": "code",
   "execution_count": 17,
   "metadata": {},
   "outputs": [],
   "source": [
    "a = tf_env.step(1)"
   ]
  },
  {
   "cell_type": "code",
   "execution_count": null,
   "metadata": {},
   "outputs": [],
   "source": [
    "a,b = agent._q_network(a.observation,attention_out = True)"
   ]
  },
  {
   "cell_type": "code",
   "execution_count": null,
   "metadata": {},
   "outputs": [],
   "source": [
    "plot_self_attention(b[0], 4)"
   ]
  },
  {
   "cell_type": "markdown",
   "metadata": {},
   "source": [
    "# Q-value samples"
   ]
  },
  {
   "cell_type": "code",
   "execution_count": 20,
   "metadata": {},
   "outputs": [],
   "source": [
    "def collect_q (environment,agent,n):\n",
    "    q_collection = []\n",
    "    time_step = environment.current_time_step()\n",
    "    for x in range(n):\n",
    "        action_step = agent.policy.action(time_step)\n",
    "        time_step = environment.step(action_step.action.numpy()[0])\n",
    "        Q = agent._q_network(time_step.observation)\n",
    "        q_collection.append(Q[0].numpy().tolist())\n",
    "    return q_collection"
   ]
  },
  {
   "cell_type": "code",
   "execution_count": 21,
   "metadata": {},
   "outputs": [
    {
     "data": {
      "text/plain": [
       "[[[117294710784.0, 147785646080.0]], [[120905121792.0, 152334565376.0]]]"
      ]
     },
     "execution_count": 21,
     "metadata": {},
     "output_type": "execute_result"
    }
   ],
   "source": [
    "collect_q (tf_env,agent,2)\n"
   ]
  },
  {
   "cell_type": "markdown",
   "metadata": {},
   "source": [
    "### Display the videos if needed"
   ]
  },
  {
   "cell_type": "code",
   "execution_count": 16,
   "metadata": {},
   "outputs": [
    {
     "data": {
      "text/html": [
       "\n",
       "    <video width=\"640\" height=\"480\" controls>\n",
       "    <source src=\"data:video/mp4;base64,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\" type=\"video/mp4\">\n",
       "    Your browser does not support the video tag.\n",
       "    </video>"
      ],
      "text/plain": [
       "<IPython.core.display.HTML object>"
      ]
     },
     "execution_count": 16,
     "metadata": {},
     "output_type": "execute_result"
    }
   ],
   "source": [
    "embed_mp4(directory + \"/bestAgent.mp4\")"
   ]
  },
  {
   "cell_type": "code",
   "execution_count": 17,
   "metadata": {},
   "outputs": [
    {
     "data": {
      "text/html": [
       "\n",
       "    <video width=\"640\" height=\"480\" controls>\n",
       "    <source src=\"data:video/mp4;base64,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\" type=\"video/mp4\">\n",
       "    Your browser does not support the video tag.\n",
       "    </video>"
      ],
      "text/plain": [
       "<IPython.core.display.HTML object>"
      ]
     },
     "execution_count": 17,
     "metadata": {},
     "output_type": "execute_result"
    }
   ],
   "source": [
    "embed_mp4(directory + \"/finalAgent.mp4\")"
   ]
  },
  {
   "cell_type": "code",
   "execution_count": null,
   "metadata": {},
   "outputs": [],
   "source": []
  }
 ],
 "metadata": {
  "kernelspec": {
   "display_name": "Python 3",
   "language": "python",
   "name": "python3"
  },
  "language_info": {
   "codemirror_mode": {
    "name": "ipython",
    "version": 3
   },
   "file_extension": ".py",
   "mimetype": "text/x-python",
   "name": "python",
   "nbconvert_exporter": "python",
   "pygments_lexer": "ipython3",
   "version": "3.7.9"
  }
 },
 "nbformat": 4,
 "nbformat_minor": 4
}
